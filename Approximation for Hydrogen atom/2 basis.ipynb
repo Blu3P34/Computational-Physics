{
 "cells": [
  {
   "cell_type": "code",
   "execution_count": null,
   "metadata": {},
   "outputs": [],
   "source": [
    "import math as m\n",
    "import numpy as np\n",
    "from scipy.linalg import eigh\n",
    "import matplotlib.pyplot as plt\n",
    "%matplotlib inline"
   ]
  },
  {
   "cell_type": "code",
   "execution_count": null,
   "metadata": {},
   "outputs": [],
   "source": [
    "def S(basis) :\n",
    "    N = basis.shape[0]\n",
    "    Overlap_matrix = np.zeros((N,N))\n",
    "    for p in range(N) :\n",
    "        for q in range(p,N) :\n",
    "            Overlap_matrix[p,q] = (np.pi/(basis[p] + basis[q]))**(3/2)\n",
    "            Overlap_matrix[q,p] = Overlap_matrix[p,q]\n",
    "    return Overlap_matrix\n",
    "\n",
    "def T(basis) :\n",
    "    N = basis.shape[0]\n",
    "    Kintetic_matrix = np.zeros((N,N))\n",
    "    for p in range(N) :\n",
    "        for q in range(p,N) :\n",
    "            Kintetic_matrix[p,q] = 3*basis[p]*basis[q]*np.pi**(3/2)/(basis[p] + basis[q])**(5/2)\n",
    "            Kintetic_matrix[q,p] = Kintetic_matrix[p,q]\n",
    "    return Kintetic_matrix\n",
    "\n",
    "def A(basis) :\n",
    "    N = basis.shape[0]\n",
    "    Coulomb_matrix = np.zeros((N,N))\n",
    "    for p in range(N) :\n",
    "        for q in range(p,N) :\n",
    "            Coulomb_matrix[p,q] = -2*np.pi/(basis[p] + basis[q])\n",
    "            Coulomb_matrix[q,p] = Coulomb_matrix[p,q]\n",
    "    return Coulomb_matrix\n",
    "\n",
    "def Gaussian(alpha, r):\n",
    "    return m.exp(-alpha*r**2)"
   ]
  },
  {
   "cell_type": "code",
   "execution_count": null,
   "metadata": {},
   "outputs": [],
   "source": [
    "def Hydrogen(a0,a1,print_eigenfunction) : \n",
    "    basis = np.array([a0, a1])\n",
    "    S_matrix = S(basis)\n",
    "    T_matrix = T(basis)\n",
    "    A_matrix = A(basis)\n",
    "\n",
    "    eigenenergy, eigenfunction = eigh((T_matrix + A_matrix), S_matrix)\n",
    "    eigenenergy = np.min(eigenenergy)\n",
    "    if print_eigenfunction == 1 :\n",
    "        eigenfunction = eigenfunction[:,np.argmin(eigenenergy)]\n",
    "        print(eigenfunction)\n",
    "    return eigenenergy"
   ]
  },
  {
   "cell_type": "code",
   "execution_count": null,
   "metadata": {},
   "outputs": [],
   "source": [
    "def gradient_descent(a0,a1,step_size,limit) :\n",
    "    gradient = np.array([[Hydrogen(a0+step_size,a1,0) - Hydrogen(a0,a1,0)], [Hydrogen(a0,a1+step_size,0) - Hydrogen(a0,a1,0)]])/step_size\n",
    "    i = 0\n",
    "    data = np.array([[i],[Hydrogen(a0,a1,0)],[a0],[a1],[np.linalg.norm(gradient)]])\n",
    "    while i < limit and np.linalg.norm(gradient) > 0.0001:\n",
    "        a0 = a0 - step_size*gradient[0,0]\n",
    "        a1 = a1 - step_size*gradient[1,0]\n",
    "        i += 1\n",
    "        gradient = np.array([[Hydrogen(a0+0.00001,a1,0) - Hydrogen(a0,a1,0)], [Hydrogen(a0,a1+0.00001,0) - Hydrogen(a0,a1,0)]])/0.00001\n",
    "        data = np.append(data,[[i],[Hydrogen(a0,a1,0)],[a0],[a1],[np.linalg.norm(gradient)]], axis = 1)\n",
    "    return data\n",
    "\n",
    "def momentum_gd(a0,a1,step_size,limit) :\n",
    "    gradient = np.array([[Hydrogen(a0+0.00001,a1,0) - Hydrogen(a0,a1,0)], [Hydrogen(a0,a1+0.00001,0) - Hydrogen(a0,a1,0)]])/0.00001\n",
    "    v = np.zeros((2,1))\n",
    "    i = 0\n",
    "    data = np.array([[i],[Hydrogen(a0,a1,0)],[a0],[a1],[np.linalg.norm(gradient)]])\n",
    "    while i < limit and np.linalg.norm(gradient) > 0.0001:\n",
    "        v = step_size*gradient + 0.9*v\n",
    "        a0 = a0 - v[0,0] \n",
    "        a1 = a1 - v[1,0] \n",
    "        i += 1\n",
    "        gradient = np.array([[Hydrogen(a0+0.00001,a1,0) - Hydrogen(a0,a1,0)], [Hydrogen(a0,a1+0.00001,0) - Hydrogen(a0,a1,0)]])/0.00001\n",
    "        data = np.append(data,[[i],[Hydrogen(a0,a1,0)],[a0],[a1],[np.linalg.norm(gradient)]], axis = 1)\n",
    "    return data\n",
    "\n",
    "def nag(a0,a1,step_size,limit) :\n",
    "    gradient = np.array([[Hydrogen(a0+0.00001,a1,0) - Hydrogen(a0,a1,0)], [Hydrogen(a0,a1+0.00001,0) - Hydrogen(a0,a1,0)]])/0.00001\n",
    "    v = np.zeros((2,1))\n",
    "    i = 0\n",
    "    data = np.array([[i],[Hydrogen(a0,a1,0)],[a0],[a1],[np.linalg.norm(gradient)]])\n",
    "    while i < limit and np.linalg.norm(gradient) > 0.0001:\n",
    "        v = step_size*gradient + 0.9*v\n",
    "        a0 = a0 - v[0,0] \n",
    "        a1 = a1 - v[1,0] \n",
    "        i += 1\n",
    "        gradient = np.array([[Hydrogen(a0-v[0,0] +0.00001,a1- v[1,0],0) - Hydrogen(a0-v[0,0],a1- v[1,0],0)], [Hydrogen(a0- v[0,0],a1- v[1,0] +0.00001,0) - Hydrogen(a0- v[0,0],a1-v[1,0] ,0)]])/0.00001\n",
    "        data = np.append(data,[[i],[Hydrogen(a0,a1,0)],[a0],[a1],[np.linalg.norm(gradient)]], axis = 1)\n",
    "    return data\n",
    "\n",
    "test1 = gradient_descent(0.01,0.02,0.1,10000)\n",
    "test2 = momentum_gd(0.01,0.02,0.1,10000)\n",
    "test3 = nag(0.01,0.02,0.1,10000)\n",
    "for ele in range(1,5) :\n",
    "    plt.figure(ele)\n",
    "    plt.plot(test2[0,:],test2[ele,:])\n",
    "\n",
    "print(test1[:,-1])\n",
    "print(test2[:,-1])\n",
    "print(test3[:,-1])"
   ]
  },
  {
   "cell_type": "code",
   "execution_count": null,
   "metadata": {},
   "outputs": [],
   "source": [
    "test1 = gradient_descent(0.01,0.02,0.1,10000)\n",
    "for ele in range(1,5) :\n",
    "    plt.figure(ele)\n",
    "    plt.plot(test1[0,:],test1[ele,:])\n",
    "print(test1[:,-1])"
   ]
  },
  {
   "cell_type": "code",
   "execution_count": null,
   "metadata": {},
   "outputs": [],
   "source": [
    "test2 = momentum_gd(0.01,0.02,0.1,10000)\n",
    "for ele in range(1,5) :\n",
    "    plt.figure(ele)\n",
    "    plt.plot(test2[0,:],test2[ele,:])\n",
    "print(test2[:,-1])"
   ]
  },
  {
   "cell_type": "code",
   "execution_count": null,
   "metadata": {},
   "outputs": [],
   "source": [
    "test3 = nag(0.01,0.02,0.1,10000)\n",
    "for ele in range(1,5) :\n",
    "    plt.figure(ele)\n",
    "    plt.plot(test3[0,:],test3[ele,:])\n",
    "print(test3[:,-1])"
   ]
  }
 ],
 "metadata": {
  "language_info": {
   "name": "python"
  }
 },
 "nbformat": 4,
 "nbformat_minor": 2
}
