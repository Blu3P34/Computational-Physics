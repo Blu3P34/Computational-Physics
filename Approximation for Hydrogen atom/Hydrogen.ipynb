{
 "cells": [
  {
   "cell_type": "code",
   "execution_count": 2,
   "metadata": {},
   "outputs": [],
   "source": [
    "import math as m\n",
    "import numpy as np\n",
    "from scipy.linalg import eigh\n",
    "import matplotlib.pyplot as plt\n",
    "%matplotlib inline"
   ]
  },
  {
   "cell_type": "code",
   "execution_count": 3,
   "metadata": {},
   "outputs": [],
   "source": [
    "def S(basis) :\n",
    "    N = basis.shape[0]\n",
    "    Overlap_matrix = np.zeros((N,N))\n",
    "    for p in range(N) :\n",
    "        for q in range(p,N) :\n",
    "            Overlap_matrix[p,q] = (np.pi/(basis[p] + basis[q]))**(3/2)\n",
    "            Overlap_matrix[q,p] = Overlap_matrix[p,q]\n",
    "    return Overlap_matrix\n",
    "\n",
    "def T(basis) :\n",
    "    N = basis.shape[0]\n",
    "    Kintetic_matrix = np.zeros((N,N))\n",
    "    for p in range(N) :\n",
    "        for q in range(p,N) :\n",
    "            Kintetic_matrix[p,q] = 3*basis[p]*basis[q]*np.pi**(3/2)/(basis[p] + basis[q])**(5/2)\n",
    "            Kintetic_matrix[q,p] = Kintetic_matrix[p,q]\n",
    "    return Kintetic_matrix\n",
    "\n",
    "def A(basis) :\n",
    "    N = basis.shape[0]\n",
    "    Coulomb_matrix = np.zeros((N,N))\n",
    "    for p in range(N) :\n",
    "        for q in range(p,N) :\n",
    "            Coulomb_matrix[p,q] = -2*np.pi/(basis[p] + basis[q])\n",
    "            Coulomb_matrix[q,p] = Coulomb_matrix[p,q]\n",
    "    return Coulomb_matrix\n",
    "\n",
    "def Gaussian(alpha, r):\n",
    "    return m.exp(-alpha*r**2)"
   ]
  },
  {
   "cell_type": "code",
   "execution_count": 4,
   "metadata": {},
   "outputs": [],
   "source": [
    "def Hydrogen1(a0,print_eigenfunction) :\n",
    "    basis = np.array([a0])\n",
    "    S_matrix = S(basis)\n",
    "    T_matrix = T(basis)\n",
    "    A_matrix = A(basis)\n",
    "\n",
    "    eigenenergy, eigenfunction = eigh((T_matrix + A_matrix), S_matrix)\n",
    "    eigenenergy = np.min(eigenenergy)\n",
    "    if print_eigenfunction == 1 :\n",
    "        eigenfunction = eigenfunction[:,np.argmin(eigenenergy)]\n",
    "        print(eigenfunction)\n",
    "    return eigenenergy\n",
    "\n",
    "def Hydrogen2(a0,a1,print_eigenfunction) : \n",
    "    basis = np.array([a0, a1])\n",
    "    S_matrix = S(basis)\n",
    "    T_matrix = T(basis)\n",
    "    A_matrix = A(basis)\n",
    "\n",
    "    eigenenergy, eigenfunction = eigh((T_matrix + A_matrix), S_matrix)\n",
    "    eigenenergy = np.min(eigenenergy)\n",
    "    if print_eigenfunction == 1 :\n",
    "        eigenfunction = eigenfunction[:,np.argmin(eigenenergy)]\n",
    "        print(eigenfunction)\n",
    "    return eigenenergy\n",
    "\n",
    "def Hydrogen4(a0,a1,a2,a3,print_eigenfunction) :\n",
    "    basis = np.array([a0, a1, a2, a3])\n",
    "    S_matrix = S(basis)\n",
    "    T_matrix = T(basis)\n",
    "    A_matrix = A(basis)\n",
    "\n",
    "    eigenenergy, eigenfunction = eigh((T_matrix + A_matrix), S_matrix)\n",
    "    eigenenergy = np.min(eigenenergy)\n",
    "    if print_eigenfunction == 1 :\n",
    "        eigenfunction = eigenfunction[:,np.argmin(eigenenergy)]\n",
    "        print(eigenfunction)\n",
    "    return eigenenergy"
   ]
  },
  {
   "cell_type": "code",
   "execution_count": 8,
   "metadata": {},
   "outputs": [
    {
     "name": "stdout",
     "output_type": "stream",
     "text": [
      "(0.2895101035042106, -0.4243566618225782)\n",
      "(0.2887928613211465, -0.42436827608155797)\n",
      "[0.28090359]\n",
      "-0.42436542393689247\n"
     ]
    },
    {
     "data": {
      "image/png": "[encoded data removed]",
      "text/plain": [
       "<Figure size 640x480 with 1 Axes>"
      ]
     },
     "metadata": {},
     "output_type": "display_data"
    }
   ],
   "source": [
    "x = np.linspace(0.0001,10,1000)\n",
    "energy = np.zeros((1,1000))\n",
    "for a in range(1000) :\n",
    "    energy[0,a] = Hydrogen1(x[a],0)\n",
    "plt.plot(x,energy[0,:])\n",
    "\n",
    "def gradient_descent1(a0,step_size,limit) :\n",
    "    gradient = (Hydrogen1(a0+step_size,0) - Hydrogen1(a0,0))/step_size\n",
    "    i = 1\n",
    "    while i < limit :\n",
    "        a0 = a0 + step_size*gradient if gradient <= 0 else a0 - step_size*gradient\n",
    "        i += 1\n",
    "    return a0,Hydrogen1(a0,0)\n",
    "\n",
    "print(gradient_descent1(0.3,0.01,20))\n",
    "print(gradient_descent1(0.2895101035042106,0.001,40))\n",
    "\n",
    "print(Hydrogen1(0.2889767695732142,1))\n",
    "\n"
   ]
  },
  {
   "cell_type": "code",
   "execution_count": 9,
   "metadata": {},
   "outputs": [
    {
     "name": "stdout",
     "output_type": "stream",
     "text": [
      "(0.19929141588331645, 1.2999019463704462, -0.4858015947344657)\n",
      "(0.19857551864329515, 1.2998028798937966, -0.4858006427038978)\n",
      "[-0.17304625 -0.24300739]\n",
      "-0.4858006427038978\n"
     ]
    }
   ],
   "source": [
    "def gradient_descent2(a0,a1,step_size,limit) :\n",
    "    gradient = np.array([Hydrogen2(a0+step_size,a1,0)-Hydrogen2(a0,a1,0), Hydrogen2(a0,a1+step_size,0)-Hydrogen2(a0,a1,0)])/step_size\n",
    "    i = 1\n",
    "    while i < limit :\n",
    "        a0 = a0 + step_size*gradient[0] if gradient[0] <= 0 else a0 - step_size*gradient[0]\n",
    "        a1 = a1 + step_size*gradient[1] if gradient[1] <= 0 else a1 + step_size*gradient[1]\n",
    "        i += 1\n",
    "        #print(Hydrogen2(a0,a1,0))\n",
    "    return a0,a1,Hydrogen2(a0,a1,0)\n",
    "\n",
    "print(gradient_descent2(0.2,1.3,0.001,100))\n",
    "print(gradient_descent2(0.19857567435131285,1.2998029023001898,0.000001,50))\n",
    "\n",
    "print(Hydrogen2(0.19857551864329515,1.2998028798937966,1))\n"
   ]
  },
  {
   "cell_type": "code",
   "execution_count": 7,
   "metadata": {},
   "outputs": [
    {
     "name": "stdout",
     "output_type": "stream",
     "text": [
      "[-0.09610152 -0.16301717 -0.18558699 -0.07370076]\n"
     ]
    },
    {
     "data": {
      "text/plain": [
       "-0.499278405667486"
      ]
     },
     "execution_count": 7,
     "metadata": {},
     "output_type": "execute_result"
    }
   ],
   "source": [
    "Hydrogen4(13.00773,1.962079,0.444529, 0.1219492,1)"
   ]
  }
 ],
 "metadata": {
  "kernelspec": {
   "display_name": "Python 3",
   "language": "python",
   "name": "python3"
  },
  "language_info": {
   "codemirror_mode": {
    "name": "ipython",
    "version": 3
   },
   "file_extension": ".py",
   "mimetype": "text/x-python",
   "name": "python",
   "nbconvert_exporter": "python",
   "pygments_lexer": "ipython3",
   "version": "3.9.7"
  }
 },
 "nbformat": 4,
 "nbformat_minor": 2
}
