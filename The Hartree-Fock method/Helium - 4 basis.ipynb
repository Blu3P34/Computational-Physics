{
 "cells": [
  {
   "cell_type": "code",
   "execution_count": 12,
   "metadata": {},
   "outputs": [],
   "source": [
    "import math as m\n",
    "import numpy as np\n",
    "from scipy.linalg import eigh\n",
    "import matplotlib.pyplot as plt\n",
    "%matplotlib inline\n",
    "\n"
   ]
  },
  {
   "cell_type": "code",
   "execution_count": 13,
   "metadata": {},
   "outputs": [],
   "source": [
    "def S(basis) :\n",
    "    N = basis.shape[0]\n",
    "    Overlap_matrix = np.zeros((N,N))\n",
    "    for p in range(N) :\n",
    "        for q in range(p,N) :\n",
    "            Overlap_matrix[p,q] = (np.pi/(basis[p] + basis[q]))**(3/2)\n",
    "            Overlap_matrix[q,p] = Overlap_matrix[p,q]\n",
    "    return Overlap_matrix\n",
    "\n",
    "def T(basis) :\n",
    "    N = basis.shape[0]\n",
    "    Kintetic_matrix = np.zeros((N,N))\n",
    "    for p in range(N) :\n",
    "        for q in range(p,N) :\n",
    "            Kintetic_matrix[p,q] = 3*basis[p]*basis[q]*np.pi**(3/2)/(basis[p] + basis[q])**(5/2)\n",
    "            Kintetic_matrix[q,p] = Kintetic_matrix[p,q]\n",
    "    return Kintetic_matrix\n",
    "\n",
    "def A(basis) :\n",
    "    N = basis.shape[0]\n",
    "    Coulomb_matrix = np.zeros((N,N))\n",
    "    for p in range(N) :\n",
    "        for q in range(p,N) :\n",
    "            Coulomb_matrix[p,q] = -4*np.pi/(basis[p] + basis[q])\n",
    "            Coulomb_matrix[q,p] = Coulomb_matrix[p,q]\n",
    "    return Coulomb_matrix\n"
   ]
  },
  {
   "cell_type": "code",
   "execution_count": 14,
   "metadata": {},
   "outputs": [],
   "source": [
    "def Q(basis) : \n",
    "    N = basis.shape[0]\n",
    "    Electron_matrix = np.zeros((N,N,N,N))\n",
    "    for p in range(N) :\n",
    "        for q in range(p+1) :\n",
    "            for r in range(p+1) :\n",
    "                if p != q :\n",
    "                    for s in range(r+1) :\n",
    "                        Electron_matrix[p,r,q,s] = 2*np.pi**(5/2)/(basis[p] + basis[q])/(basis[r] + basis[s])/(basis[p] + basis[q] + basis[r] + basis[s])**(1/2)\n",
    "                        Electron_matrix[p,s,q,r] = Electron_matrix[p,r,q,s]\n",
    "                        Electron_matrix[q,r,p,s] = Electron_matrix[p,r,q,s]\n",
    "                        Electron_matrix[q,s,p,r] = Electron_matrix[p,r,q,s]\n",
    "                        Electron_matrix[r,p,s,q] = Electron_matrix[p,r,q,s]\n",
    "                        Electron_matrix[r,q,s,p] = Electron_matrix[p,r,q,s]\n",
    "                        Electron_matrix[s,p,r,q] = Electron_matrix[p,r,q,s]\n",
    "                        Electron_matrix[s,q,r,p] = Electron_matrix[p,r,q,s]\n",
    "                else :\n",
    "                    for s in range(q+1) :\n",
    "                        Electron_matrix[p,r,q,s] = 2*np.pi**(5/2)/(basis[p] + basis[q])/(basis[r] + basis[s])/(basis[p] + basis[q] + basis[r] + basis[s])**(1/2)\n",
    "                        Electron_matrix[p,s,q,r] = Electron_matrix[p,r,q,s]\n",
    "                        Electron_matrix[q,r,p,s] = Electron_matrix[p,r,q,s]\n",
    "                        Electron_matrix[q,s,p,r] = Electron_matrix[p,r,q,s]\n",
    "                        Electron_matrix[r,p,s,q] = Electron_matrix[p,r,q,s]\n",
    "                        Electron_matrix[r,q,s,p] = Electron_matrix[p,r,q,s]\n",
    "                        Electron_matrix[s,p,r,q] = Electron_matrix[p,r,q,s]\n",
    "                        Electron_matrix[s,q,r,p] = Electron_matrix[p,r,q,s]"
   ]
  },
  {
   "cell_type": "code",
   "execution_count": 15,
   "metadata": {},
   "outputs": [],
   "source": [
    "def normalize(C,S) :\n",
    "    N = np.shape(C)[0]\n",
    "    I = 0\n",
    "    for r in range(N) :\n",
    "        for s in range(N) : \n",
    "            I = I + S[r,s]*C[r]*C[s]\n",
    "    C = C/I\n",
    "    return C"
   ]
  },
  {
   "cell_type": "code",
   "execution_count": 16,
   "metadata": {},
   "outputs": [],
   "source": [
    "def Helium(a0,a1,a2,a3,C) :\n",
    "    basis = np.array([a0, a1, a2, a3])\n",
    "\n",
    "    S_matrix = S(basis)\n",
    "    T_matrix = T(basis)\n",
    "    A_matrix = A(basis)\n",
    "    Q_tensor = Q(basis)\n",
    "    Q_matrix = np.zeros((4,4)) \n",
    "\n",
    "    for r in range(4) : \n",
    "        for s in range(4) : \n",
    "            Q_matrix = Q_matrix + Q_tensor[:,r,:,s]*C[r]*C[s]\n",
    "    \n",
    "    eigenenergy, eigenvector= eigh((T_matrix + A_matrix + Q_matrix), S_matrix)\n",
    "    eigenenergy = np.min(eigenenergy)\n",
    "    eigenvector = eigenvector[:,np.argmin(eigenenergy)]\n",
    "    return eigenenergy, eigenvector\n"
   ]
  },
  {
   "cell_type": "code",
   "execution_count": 17,
   "metadata": {},
   "outputs": [
    {
     "ename": "TypeError",
     "evalue": "normalize() missing 1 required positional argument: 'S'",
     "output_type": "error",
     "traceback": [
      "\u001b[1;31m---------------------------------------------------------------------------\u001b[0m",
      "\u001b[1;31mTypeError\u001b[0m                                 Traceback (most recent call last)",
      "Cell \u001b[1;32mIn [17], line 10\u001b[0m\n\u001b[0;32m      7\u001b[0m         \u001b[38;5;28mprint\u001b[39m(eigenenergy)\n\u001b[0;32m      8\u001b[0m     \u001b[38;5;28;01mreturn\u001b[39;00m eigenenergy, C\n\u001b[1;32m---> 10\u001b[0m \u001b[43mSCF\u001b[49m\u001b[43m(\u001b[49m\u001b[38;5;241;43m10\u001b[39;49m\u001b[43m)\u001b[49m\n",
      "Cell \u001b[1;32mIn [17], line 4\u001b[0m, in \u001b[0;36mSCF\u001b[1;34m(n)\u001b[0m\n\u001b[0;32m      2\u001b[0m C \u001b[38;5;241m=\u001b[39m np\u001b[38;5;241m.\u001b[39marray([\u001b[38;5;241m1\u001b[39m,\u001b[38;5;241m1\u001b[39m,\u001b[38;5;241m1\u001b[39m,\u001b[38;5;241m1\u001b[39m])\n\u001b[0;32m      3\u001b[0m \u001b[38;5;28;01mfor\u001b[39;00m ele \u001b[38;5;129;01min\u001b[39;00m \u001b[38;5;28mrange\u001b[39m(n) :\n\u001b[1;32m----> 4\u001b[0m     C \u001b[38;5;241m=\u001b[39m \u001b[43mnormalize\u001b[49m\u001b[43m(\u001b[49m\u001b[43mC\u001b[49m\u001b[43m)\u001b[49m\n\u001b[0;32m      5\u001b[0m     eigenenergy \u001b[38;5;241m=\u001b[39m Helium(\u001b[38;5;241m0.298073\u001b[39m, \u001b[38;5;241m1.242567\u001b[39m, \u001b[38;5;241m5.782948\u001b[39m, \u001b[38;5;241m38.474970\u001b[39m)[\u001b[38;5;241m0\u001b[39m]\n\u001b[0;32m      6\u001b[0m     C \u001b[38;5;241m=\u001b[39m Helium(\u001b[38;5;241m0.298073\u001b[39m, \u001b[38;5;241m1.242567\u001b[39m, \u001b[38;5;241m5.782948\u001b[39m, \u001b[38;5;241m38.474970\u001b[39m)[\u001b[38;5;241m1\u001b[39m]\n",
      "\u001b[1;31mTypeError\u001b[0m: normalize() missing 1 required positional argument: 'S'"
     ]
    }
   ],
   "source": [
    "def SCF(n) : \n",
    "    C = np.array([1,1,1,1])\n",
    "    for ele in range(n) :\n",
    "        C = normalize(C,S)\n",
    "        eigenenergy = Helium(0.298073, 1.242567, 5.782948, 38.474970)[0]\n",
    "        C = Helium(0.298073, 1.242567, 5.782948, 38.474970)[1]\n",
    "        print(eigenenergy)\n",
    "    return eigenenergy, C\n",
    "\n",
    "SCF(10)\n"
   ]
  }
 ],
 "metadata": {
  "kernelspec": {
   "display_name": "Python 3",
   "language": "python",
   "name": "python3"
  },
  "language_info": {
   "codemirror_mode": {
    "name": "ipython",
    "version": 3
   },
   "file_extension": ".py",
   "mimetype": "text/x-python",
   "name": "python",
   "nbconvert_exporter": "python",
   "pygments_lexer": "ipython3",
   "version": "3.9.7"
  }
 },
 "nbformat": 4,
 "nbformat_minor": 2
}
