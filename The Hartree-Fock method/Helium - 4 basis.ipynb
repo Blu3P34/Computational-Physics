{
 "cells": [
  {
   "cell_type": "code",
   "execution_count": 35,
   "metadata": {},
   "outputs": [],
   "source": [
    "import math as m\n",
    "import numpy as np\n",
    "from scipy.linalg import eigh\n",
    "import matplotlib.pyplot as plt\n",
    "%matplotlib inline\n",
    "\n"
   ]
  },
  {
   "cell_type": "code",
   "execution_count": 36,
   "metadata": {},
   "outputs": [],
   "source": [
    "def S(basis) :\n",
    "    N = basis.shape[0]\n",
    "    Overlap_matrix = np.zeros((N,N))\n",
    "    for p in range(N) :\n",
    "        for q in range(p,N) :\n",
    "            Overlap_matrix[p,q] = (np.pi/(basis[p] + basis[q]))**(3/2)\n",
    "            Overlap_matrix[q,p] = Overlap_matrix[p,q]\n",
    "    return Overlap_matrix\n",
    "\n",
    "def T(basis) :\n",
    "    N = basis.shape[0]\n",
    "    Kintetic_matrix = np.zeros((N,N))\n",
    "    for p in range(N) :\n",
    "        for q in range(p,N) :\n",
    "            Kintetic_matrix[p,q] = 3*basis[p]*basis[q]*np.pi**(3/2)/(basis[p] + basis[q])**(5/2)\n",
    "            Kintetic_matrix[q,p] = Kintetic_matrix[p,q]\n",
    "    return Kintetic_matrix\n",
    "\n",
    "def A(basis) :\n",
    "    N = basis.shape[0]\n",
    "    Coulomb_matrix = np.zeros((N,N))\n",
    "    for p in range(N) :\n",
    "        for q in range(p,N) :\n",
    "            Coulomb_matrix[p,q] = -4*np.pi/(basis[p] + basis[q])\n",
    "            Coulomb_matrix[q,p] = Coulomb_matrix[p,q]\n",
    "    return Coulomb_matrix\n"
   ]
  },
  {
   "cell_type": "code",
   "execution_count": 37,
   "metadata": {},
   "outputs": [],
   "source": [
    "def Q(basis) : \n",
    "    N = basis.shape[0]\n",
    "    Electron_matrix = np.zeros((N,N,N,N))\n",
    "    for p in range(N) :\n",
    "        for q in range(p+1) :\n",
    "            for r in range(p+1) :\n",
    "                if p != q :\n",
    "                    for s in range(r+1) :\n",
    "                        Electron_matrix[p,r,q,s] = 2*np.pi**(5/2)/(basis[p] + basis[q])/(basis[r] + basis[s])/(basis[p] + basis[q] + basis[r] + basis[s])**(1/2)\n",
    "                        Electron_matrix[p,s,q,r] = Electron_matrix[p,r,q,s]\n",
    "                        Electron_matrix[q,r,p,s] = Electron_matrix[p,r,q,s]\n",
    "                        Electron_matrix[q,s,p,r] = Electron_matrix[p,r,q,s]\n",
    "                        Electron_matrix[r,p,s,q] = Electron_matrix[p,r,q,s]\n",
    "                        Electron_matrix[r,q,s,p] = Electron_matrix[p,r,q,s]\n",
    "                        Electron_matrix[s,p,r,q] = Electron_matrix[p,r,q,s]\n",
    "                        Electron_matrix[s,q,r,p] = Electron_matrix[p,r,q,s]\n",
    "                else :\n",
    "                    for s in range(q+1) :\n",
    "                        Electron_matrix[p,r,q,s] = 2*np.pi**(5/2)/(basis[p] + basis[q])/(basis[r] + basis[s])/(basis[p] + basis[q] + basis[r] + basis[s])**(1/2)\n",
    "                        Electron_matrix[p,s,q,r] = Electron_matrix[p,r,q,s]\n",
    "                        Electron_matrix[q,r,p,s] = Electron_matrix[p,r,q,s]\n",
    "                        Electron_matrix[q,s,p,r] = Electron_matrix[p,r,q,s]\n",
    "                        Electron_matrix[r,p,s,q] = Electron_matrix[p,r,q,s]\n",
    "                        Electron_matrix[r,q,s,p] = Electron_matrix[p,r,q,s]\n",
    "                        Electron_matrix[s,p,r,q] = Electron_matrix[p,r,q,s]\n",
    "                        Electron_matrix[s,q,r,p] = Electron_matrix[p,r,q,s]\n",
    "    return Electron_matrix"
   ]
  },
  {
   "cell_type": "code",
   "execution_count": 38,
   "metadata": {},
   "outputs": [],
   "source": [
    "def normalize(C,S) :\n",
    "    I = 0\n",
    "    N = np.shape(C)[0]\n",
    "    for r in range(N) :\n",
    "        for s in range(N) : \n",
    "            I = I + S[r,s]*C[r]*C[s]\n",
    "    C = C/I\n",
    "    return C"
   ]
  },
  {
   "cell_type": "code",
   "execution_count": 39,
   "metadata": {},
   "outputs": [],
   "source": [
    "def Helium(a0,a1,a2,a3,C) :\n",
    "    basis = np.array([a0, a1, a2, a3])\n",
    "    \n",
    "    S_matrix = S(basis)\n",
    "    T_matrix = T(basis)\n",
    "    A_matrix = A(basis)\n",
    "    Q_tensor = Q(basis)\n",
    "    Q_matrix = np.zeros((4,4)) \n",
    "\n",
    "    C = normalize(C,S_matrix)\n",
    "    \n",
    "    for r in range(4) : \n",
    "        for s in range(4) : \n",
    "            Q_matrix = Q_matrix + Q_tensor[:,r,:,s]*C[r]*C[s]\n",
    "    \n",
    "    eigenenergy, eigenvector= eigh((T_matrix + A_matrix + Q_matrix), S_matrix)\n",
    "    eigenenergy = np.min(eigenenergy)\n",
    "    eigenvector = eigenvector[:,np.argmin(eigenenergy)]\n",
    "    \n",
    "    total_energy = 0 \n",
    "    for p in range(4) :\n",
    "        for q in range(4) :\n",
    "            total_energy = total_energy = total_energy  + 2*(A_matrix[p,q]+T_matrix[p,q])*C[p]*C[q]\n",
    "            for r in range(4) :\n",
    "                for s in range(4) :\n",
    "                    total_energy = total_energy + Q_tensor[p,r,q,s]*C[p]*C[r]*C[q]*C[s]\n",
    "                    \n",
    "    return eigenenergy, eigenvector, total_energy\n"
   ]
  },
  {
   "cell_type": "code",
   "execution_count": 40,
   "metadata": {},
   "outputs": [
    {
     "name": "stdout",
     "output_type": "stream",
     "text": [
      "-0.16233578267128507\n",
      "-2.74905418936348\n",
      "-2.8475909854591923\n",
      "-2.8545950821335384\n",
      "-2.855118239270491\n",
      "-2.8551572371945677\n",
      "-2.8551601477017536\n",
      "-2.855160364859865\n",
      "-2.855160381063693\n",
      "-2.8551603822727585\n"
     ]
    },
    {
     "data": {
      "text/plain": [
       "(-2.8551603822727585, array([0.14772337, 0.39384325, 0.41082622, 0.26129643]))"
      ]
     },
     "execution_count": 40,
     "metadata": {},
     "output_type": "execute_result"
    }
   ],
   "source": [
    "def SCF(a0,a1,a2,a3) : \n",
    "    n = 20\n",
    "    C = np.array([1,1,1,1])\n",
    "    for ele in range(n) :\n",
    "        total_energy = Helium(a0,a1,a2,a3,C)[2]\n",
    "        C = Helium(0.298073, 1.242567, 5.782948, 38.474970,C)[1]\n",
    "        print(total_energy)\n",
    "    return total_energy, C\n",
    "\n",
    "SCF(10)\n"
   ]
  },
  {
   "cell_type": "code",
   "execution_count": 41,
   "metadata": {},
   "outputs": [
    {
     "data": {
      "text/plain": [
       "array([[5.40891   , 2.10007882, 0.31577426, 0.0204655 ],\n",
       "       [2.10007882, 2.64917817, 0.9175289 , 0.08033197],\n",
       "       [0.31577426, 0.9175289 , 1.22799453, 0.28523065],\n",
       "       [0.0204655 , 0.08033197, 0.28523065, 0.47608218]])"
      ]
     },
     "execution_count": 41,
     "metadata": {},
     "output_type": "execute_result"
    }
   ],
   "source": [
    "def MGD(a0,a1,a2,a3,step_size,limit) :\n",
    "    gradient = np.array([[Hydrogen(a0+0.00001,a1,a2,a3,0) - Hydrogen(a0,a1,a2,a3,0)], [Hydrogen(a0,a1+0.00001,a2,a3,0) - Hydrogen(a0,a1,a2,a3,0)], [Hydrogen(a0,a1,a2+0.00001,a3,0) - Hydrogen(a0,a1,a2,a3,0)], [Hydrogen(a0,a1,a2,a3+0.00001,0) - Hydrogen(a0,a1,a2,a3,0)]])/0.00001\n",
    "    v = np.zeros((4,1))\n",
    "    i = 0\n",
    "    data = np.array([[i],[Hydrogen(a0,a1,a2,a3,0)],[a0],[a1],[a2],[a3],[np.linalg.norm(gradient)]])\n",
    "    while i < limit and np.linalg.norm(gradient) > 0.000001:\n",
    "        v = step_size*gradient + 0.9*v\n",
    "        a0 = a0 - v[0,0]\n",
    "        a1 = a1 - v[1,0]\n",
    "        a2 = a2 - v[2,0]\n",
    "        a3 = a3 - v[3,0]\n",
    "        i += 1\n",
    "        gradient = np.array([[Hydrogen(a0+0.00001,a1,a2,a3,0) - Hydrogen(a0,a1,a2,a3,0)], [Hydrogen(a0,a1+0.00001,a2,a3,0) - Hydrogen(a0,a1,a2,a3,0)], [Hydrogen(a0,a1,a2+0.00001,a3,0) - Hydrogen(a0,a1,a2,a3,0)], [Hydrogen(a0,a1,a2,a3+0.00001,0) - Hydrogen(a0,a1,a2,a3,0)]])/0.000001\n",
    "        data = np.append(data,[[i],[Hydrogen(a0,a1,a2,a3,0)],[a0],[a1],[a2],[a3],[np.linalg.norm(gradient)]], axis = 1)\n",
    "    return data"
   ]
  }
 ],
 "metadata": {
  "kernelspec": {
   "display_name": "Python 3",
   "language": "python",
   "name": "python3"
  },
  "language_info": {
   "codemirror_mode": {
    "name": "ipython",
    "version": 3
   },
   "file_extension": ".py",
   "mimetype": "text/x-python",
   "name": "python",
   "nbconvert_exporter": "python",
   "pygments_lexer": "ipython3",
   "version": "3.9.7"
  }
 },
 "nbformat": 4,
 "nbformat_minor": 2
}
